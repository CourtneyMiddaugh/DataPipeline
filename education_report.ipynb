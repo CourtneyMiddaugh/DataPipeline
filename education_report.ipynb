{
 "cells": [
  {
   "cell_type": "code",
   "execution_count": null,
   "metadata": {},
   "outputs": [],
   "source": [
    "'''This module is used to create the education report for the designated year'''"
   ]
  },
  {
   "cell_type": "markdown",
   "metadata": {},
   "source": [
    "# Yearly Report of Colleges"
   ]
  },
  {
   "cell_type": "code",
   "execution_count": null,
   "metadata": {},
   "outputs": [],
   "source": [
    "# importing dependencies\n",
    "import pandas as pd\n",
    "import psycopg\n",
    "import matplotlib.pyplot as plt\n",
    "from credentials import DB_NAME, DB_USER, DB_PASSWORD\n",
    "import sys\n",
    "import seaborn\n",
    "\n"
   ]
  },
  {
   "cell_type": "code",
   "execution_count": null,
   "metadata": {},
   "outputs": [],
   "source": [
    "# connecting to SQL\n",
    "conn = psycopg.connect(\n",
    "        host=\"pinniped.postgres.database.azure.com\", dbname= DB_NAME,\n",
    "        user= DB_USER, password= DB_PASSWORD\n",
    "    )"
   ]
  },
  {
   "cell_type": "code",
   "execution_count": null,
   "metadata": {},
   "outputs": [],
   "source": [
    "YEAR = sys.argv[1]"
   ]
  },
  {
   "cell_type": "markdown",
   "metadata": {},
   "source": [
    "\n",
    "## Summary of Colleges by State and Type of Institution (for selected year)\n",
    "Note that Control of Institution is coded as follows...  \n",
    "1 = Public  \n",
    "2 = Private nonprofit  \n",
    "3 = Private for-profit  \n",
    "\n",
    "\n"
   ]
  },
  {
   "cell_type": "code",
   "execution_count": null,
   "metadata": {},
   "outputs": [],
   "source": []
  }
 ],
 "metadata": {
  "language_info": {
   "name": "python"
  }
 },
 "nbformat": 4,
 "nbformat_minor": 2
}
